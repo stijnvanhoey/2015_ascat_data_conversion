{
 "cells": [
  {
   "cell_type": "markdown",
   "metadata": {
    "slideshow": {
     "slide_type": "slide"
    }
   },
   "source": [
    "# ASCAT data loading Hans Lievens"
   ]
  },
  {
   "cell_type": "markdown",
   "metadata": {
    "slideshow": {
     "slide_type": "slide"
    }
   },
   "source": [
    "Loading some useful libraries"
   ]
  },
  {
   "cell_type": "code",
   "execution_count": 195,
   "metadata": {
    "collapsed": true,
    "slideshow": {
     "slide_type": "fragment"
    }
   },
   "outputs": [],
   "source": [
    "import numpy as np"
   ]
  },
  {
   "cell_type": "markdown",
   "metadata": {},
   "source": [
    "### Received information about dataset (email-conversation)\n",
    "\n",
    "Each cells contains two files: an\n",
    "index (.idx) and a data (.dat) file.\n",
    "\n",
    "The index file contains the grid point numbers and the data file the\n",
    "data records. First read the .idx file, choose the grid point you want\n",
    "to read, use the exact same rows of this grid point for the .dat file\n",
    "to read the data.\n",
    "\n",
    "When you read the files you have to skip the first 208 bytes, this is\n",
    "the file header we are using internally to select the correct\n",
    "template.\n",
    "\n",
    "For reading the .idx file the date type template looks like\n",
    "struct = np.dtype([('gpi', np.int32)])\n",
    "\n",
    "and for the .dat file the data type template looks like\n",
    "struct = np.dtype([('jd', np.double),  ('sig', np.float32),\n",
    "('sig_noise', np.float32),    ('dir', np.dtype('S1')),    ('pdb',\n",
    "np.ubyte),    ('azcorr_flag', np.dtype([('f', np.ubyte),  ('m',\n",
    "np.ubyte),  ('a', np.ubyte)]))],"
   ]
  },
  {
   "cell_type": "markdown",
   "metadata": {},
   "source": [
    "### First draft reading of the binary data"
   ]
  },
  {
   "cell_type": "markdown",
   "metadata": {},
   "source": [
    "In the following section, I'll test the reading for the following dataset/file:"
   ]
  },
  {
   "cell_type": "code",
   "execution_count": 196,
   "metadata": {
    "collapsed": true
   },
   "outputs": [],
   "source": [
    "filename = \"1323\""
   ]
  },
  {
   "cell_type": "markdown",
   "metadata": {},
   "source": [
    "#### INDEX FILE"
   ]
  },
  {
   "cell_type": "markdown",
   "metadata": {},
   "source": [
    "We have to skip the  first 208 bytes to avoid the reading of the header. "
   ]
  },
  {
   "cell_type": "code",
   "execution_count": 197,
   "metadata": {
    "collapsed": false
   },
   "outputs": [],
   "source": [
    "struct1 = np.dtype([('gpi', np.int32)])"
   ]
  },
  {
   "cell_type": "code",
   "execution_count": 198,
   "metadata": {
    "collapsed": true
   },
   "outputs": [],
   "source": [
    "f = open(\"\".join([\"./ASCAT/\", filename, \".idx\"]), \"rb\")  # reopen the file\n",
    "f.seek(208, os.SEEK_SET)  # seek\n",
    "\n",
    "idx_data = np.fromfile(f, dtype=struct1).astype('int32') # astype erbij om de omzetting te verzekeren"
   ]
  },
  {
   "cell_type": "code",
   "execution_count": 199,
   "metadata": {
    "collapsed": false
   },
   "outputs": [
    {
     "data": {
      "text/plain": [
       "(4488295,)"
      ]
     },
     "execution_count": 199,
     "metadata": {},
     "output_type": "execute_result"
    }
   ],
   "source": [
    "idx_data.shape # grootte evalueren"
   ]
  },
  {
   "cell_type": "code",
   "execution_count": 200,
   "metadata": {
    "collapsed": false
   },
   "outputs": [
    {
     "data": {
      "text/plain": [
       "array([2301795, 2301795, 2301795, 2301795, 2301795, 2301795, 2301795,\n",
       "       2301795, 2301795, 2301795, 2301795, 2301795, 2301795, 2301795,\n",
       "       2301795, 2301795, 2301795, 2301795, 2301795, 2301795, 2301795,\n",
       "       2301795, 2301795, 2301795, 2301795, 2301795, 2301795, 2301795,\n",
       "       2301795, 2301795, 2301795, 2301795, 2301795, 2301795, 2301795,\n",
       "       2301795, 2301795, 2301795, 2301795, 2301795, 2301795, 2301795,\n",
       "       2301795, 2301795, 2301795, 2301795, 2301795, 2301795, 2301795,\n",
       "       2301795], dtype=int32)"
      ]
     },
     "execution_count": 200,
     "metadata": {},
     "output_type": "execute_result"
    }
   ],
   "source": [
    "idx_data[:50]"
   ]
  },
  {
   "cell_type": "markdown",
   "metadata": {},
   "source": [
    "Ik lees hier een lijst van getallen in, telkens een cluster van -wat ik veronderstel- grid points; laat ond even de unieke waarden nagaan:"
   ]
  },
  {
   "cell_type": "code",
   "execution_count": 201,
   "metadata": {
    "collapsed": false
   },
   "outputs": [
    {
     "data": {
      "text/plain": [
       "array([2301795, 2301797, 2301801, ..., 2493005, 2493009, 2493013], dtype=int32)"
      ]
     },
     "execution_count": 201,
     "metadata": {},
     "output_type": "execute_result"
    }
   ],
   "source": [
    "np.unique(idx_data)"
   ]
  },
  {
   "cell_type": "code",
   "execution_count": 202,
   "metadata": {
    "collapsed": false
   },
   "outputs": [
    {
     "data": {
      "text/plain": [
       "1379"
      ]
     },
     "execution_count": 202,
     "metadata": {},
     "output_type": "execute_result"
    }
   ],
   "source": [
    "np.unique(idx_data).size"
   ]
  },
  {
   "cell_type": "markdown",
   "metadata": {},
   "source": [
    "Met andere woorden 1379 grid points zijn hier in meegegeven..."
   ]
  },
  {
   "cell_type": "markdown",
   "metadata": {},
   "source": [
    "#### DAT-FILE data zelf"
   ]
  },
  {
   "cell_type": "markdown",
   "metadata": {},
   "source": [
    "Inlezen, met de gegeven byte header en de structuur die was meegeleverd:"
   ]
  },
  {
   "cell_type": "code",
   "execution_count": 203,
   "metadata": {
    "collapsed": true
   },
   "outputs": [],
   "source": [
    "struct2 = np.dtype([('jd', np.double),  ('sig', np.float32), ('sig_noise', np.float32), \n",
    "                   ('dir', np.dtype('S1')),    ('pdb',np.ubyte), ('azcorr_flag', \n",
    "                                                                  np.dtype([('f', np.ubyte),  \n",
    "                                                                            ('m',np.ubyte),  \n",
    "                                                                            ('a', np.ubyte)]))])"
   ]
  },
  {
   "cell_type": "code",
   "execution_count": 204,
   "metadata": {
    "collapsed": true
   },
   "outputs": [],
   "source": [
    "f = open(''.join([\"./ASCAT/\", filename, \".dat\"]), \"rb\")  # reopen the file\n",
    "f.seek(208, os.SEEK_SET)  # seek\n",
    "\n",
    "data = np.fromfile(f, dtype=struct2)"
   ]
  },
  {
   "cell_type": "code",
   "execution_count": 205,
   "metadata": {
    "collapsed": false
   },
   "outputs": [
    {
     "data": {
      "text/plain": [
       "array([ (2454102.8887586812, -9.16275691986084, 0.08637592941522598, 'D', 54, (2, 2, 2)),\n",
       "       (2454103.9439236117, -9.11705493927002, 0.08362860232591629, 'D', 54, (2, 2, 2)),\n",
       "       (2454104.3495876626, -9.267045021057129, 0.08337954431772232, 'A', 54, (2, 2, 2)),\n",
       "       ...,\n",
       "       (2457022.369726563, -8.836539268493652, 0.07853401452302933, 'A', 54, (2, 2, 2)),\n",
       "       (2457022.8782986, -8.78021240234375, 0.08376690745353699, 'D', 54, (2, 2, 2)),\n",
       "       (2457022.947786447, -8.758130073547363, 0.08410192281007767, 'D', 54, (2, 2, 2))], \n",
       "      dtype=[('jd', '<f8'), ('sig', '<f4'), ('sig_noise', '<f4'), ('dir', 'S1'), ('pdb', 'u1'), ('azcorr_flag', [('f', 'u1'), ('m', 'u1'), ('a', 'u1')])])"
      ]
     },
     "execution_count": 205,
     "metadata": {},
     "output_type": "execute_result"
    }
   ],
   "source": [
    "data"
   ]
  },
  {
   "cell_type": "markdown",
   "metadata": {},
   "source": [
    "Voorbeeld van 1 element:"
   ]
  },
  {
   "cell_type": "code",
   "execution_count": 206,
   "metadata": {
    "collapsed": false
   },
   "outputs": [
    {
     "data": {
      "text/plain": [
       "(2455067.402756065, -9.999258995056152, 0.08587104082107544, 'A', 54, (2, 2, 2))"
      ]
     },
     "execution_count": 206,
     "metadata": {},
     "output_type": "execute_result"
    }
   ],
   "source": [
    "data[1000]"
   ]
  },
  {
   "cell_type": "markdown",
   "metadata": {
    "collapsed": true
   },
   "source": [
    "Ik had al vernomen dat het tweede getal een backscatterwaarde zou zijn tussen 0 en -30, dat lijkt me te kloppen. Bovendien lijkt de eerste waarde een datum te kunnen zijn..."
   ]
  },
  {
   "cell_type": "markdown",
   "metadata": {
    "collapsed": true
   },
   "source": [
    "\n",
    "### Extract data from a gridpoint"
   ]
  },
  {
   "cell_type": "markdown",
   "metadata": {},
   "source": [
    "Mijn hypothese op basis van zijn uitleg en bovenstaande data: \n",
    "* Kies een nummer uit de unieke waarden\n",
    "* selecteer alle rijen met die waarde en onthou de indexen\n",
    "* selecteer de rijen van die indexen uit de .dat-file\n",
    "\n",
    "Zou dat steek houden? - ik probeer het alvast uit (We hebben nu *idx_data* en de *data* arrays om mee te werken):"
   ]
  },
  {
   "cell_type": "code",
   "execution_count": 207,
   "metadata": {
    "collapsed": true
   },
   "outputs": [],
   "source": [
    "# We kiezen 1 specifiek gridpoint\n",
    "grid_point = 2301829"
   ]
  },
  {
   "cell_type": "code",
   "execution_count": 208,
   "metadata": {
    "collapsed": false
   },
   "outputs": [],
   "source": [
    "# selecteer de 'rijen/posities' voor dat grid point\n",
    "indxs_point = np.where(idx_data == grid_point)"
   ]
  },
  {
   "cell_type": "code",
   "execution_count": 209,
   "metadata": {
    "collapsed": false
   },
   "outputs": [],
   "source": [
    "# haal die rijen uit de data-file\n",
    "my_selection = data[indxs_point]"
   ]
  },
  {
   "cell_type": "code",
   "execution_count": 210,
   "metadata": {
    "collapsed": false
   },
   "outputs": [
    {
     "data": {
      "text/plain": [
       "array([ (2454102.8887369796, -9.05182933807373, 0.0817079022526741, 'D', 54, (2, 2, 2)),\n",
       "       (2454103.943836806, -9.10305404663086, 0.08119107037782669, 'D', 54, (2, 2, 2)),\n",
       "       (2454104.34952257, -9.057757377624512, 0.07795611023902893, 'A', 54, (2, 2, 2)),\n",
       "       ...,\n",
       "       (2457021.893793403, -9.648776054382324, 0.07921148091554642, 'D', 54, (2, 2, 2)),\n",
       "       (2457022.9488281254, -9.93057918548584, 0.08341851830482483, 'D', 54, (2, 2, 2)),\n",
       "       (2457023.3545138896, -10.14028549194336, 0.07756844907999039, 'A', 54, (2, 2, 2))], \n",
       "      dtype=[('jd', '<f8'), ('sig', '<f4'), ('sig_noise', '<f4'), ('dir', 'S1'), ('pdb', 'u1'), ('azcorr_flag', [('f', 'u1'), ('m', 'u1'), ('a', 'u1')])])"
      ]
     },
     "execution_count": 210,
     "metadata": {},
     "output_type": "execute_result"
    }
   ],
   "source": [
    "my_selection"
   ]
  },
  {
   "cell_type": "markdown",
   "metadata": {},
   "source": [
    "Conversie naar matlab-file om er daar mee te werken:"
   ]
  },
  {
   "cell_type": "code",
   "execution_count": 211,
   "metadata": {
    "collapsed": true
   },
   "outputs": [],
   "source": [
    "import scipy.io as sio"
   ]
  },
  {
   "cell_type": "code",
   "execution_count": 212,
   "metadata": {
    "collapsed": false
   },
   "outputs": [
    {
     "data": {
      "text/plain": [
       "array([ (2454102.8887369796, -9.05182933807373, 0.0817079022526741, 'D', 54, (2, 2, 2)),\n",
       "       (2454103.943836806, -9.10305404663086, 0.08119107037782669, 'D', 54, (2, 2, 2)),\n",
       "       (2454104.34952257, -9.057757377624512, 0.07795611023902893, 'A', 54, (2, 2, 2)),\n",
       "       ...,\n",
       "       (2457021.893793403, -9.648776054382324, 0.07921148091554642, 'D', 54, (2, 2, 2)),\n",
       "       (2457022.9488281254, -9.93057918548584, 0.08341851830482483, 'D', 54, (2, 2, 2)),\n",
       "       (2457023.3545138896, -10.14028549194336, 0.07756844907999039, 'A', 54, (2, 2, 2))], \n",
       "      dtype=[('jd', '<f8'), ('sig', '<f4'), ('sig_noise', '<f4'), ('dir', 'S1'), ('pdb', 'u1'), ('azcorr_flag', [('f', 'u1'), ('m', 'u1'), ('a', 'u1')])])"
      ]
     },
     "execution_count": 212,
     "metadata": {},
     "output_type": "execute_result"
    }
   ],
   "source": [
    "my_selection"
   ]
  },
  {
   "cell_type": "code",
   "execution_count": 213,
   "metadata": {
    "collapsed": false
   },
   "outputs": [],
   "source": [
    "sio.savemat(\"data_hans\", {''.join(['grid_point1_',str(grid_point)]):my_selection, ''.join(['grid_point2_',str(grid_point)]):my_selection})"
   ]
  },
  {
   "cell_type": "markdown",
   "metadata": {},
   "source": [
    "Hiermee verkrijgen we een .mat-file die je kan 'load'-en in Matlab en als structuur beschikbaar is..."
   ]
  },
  {
   "cell_type": "markdown",
   "metadata": {},
   "source": [
    "## Bring this together in a single functionality"
   ]
  },
  {
   "cell_type": "code",
   "execution_count": 214,
   "metadata": {
    "collapsed": false
   },
   "outputs": [],
   "source": [
    "def convert_ascat_to_matlab(filename, grid_point_id='all', byte2skip=208):\n",
    "    \"\"\"read in the .idx and .dat file combinationa dn convert data to matlab readable .mat-files\n",
    "    \n",
    "    Parameters\n",
    "    -----------\n",
    "    filename : str\n",
    "        name (relative path or full path) of the .idx and .dat file combination\n",
    "    grid_point_id : int or 'all'\n",
    "        ask for a specific gridpoint or let them all convert and write in different .mat-structures\n",
    "    byte2skip : int\n",
    "        number of bytes to skip to leave out the header file\n",
    "    \"\"\"\n",
    "    # provided data structures of the partner organisation\n",
    "    struct_idx = np.dtype([('gpi', np.int32)])\n",
    "    struct_dat = np.dtype([('jd', np.double), ('sig', np.float32), ('sig_noise', np.float32), \n",
    "                           ('dir', np.dtype('S1')), ('pdb',np.ubyte), ('azcorr_flag', \n",
    "                                                                       np.dtype([('f', np.ubyte),  \n",
    "                                                                                 ('m',np.ubyte),  \n",
    "                                                                                 ('a', np.ubyte)]))])\n",
    "    # reading in the index file\n",
    "    f = open(\"\".join([filename, \".idx\"]), \"rb\")  # reopen the file\n",
    "    f.seek(byte2skip, os.SEEK_SET)  # seek\n",
    "    idx_data = np.fromfile(f, dtype=struct_idx).astype('int32') # astype erbij om de omzetting te verzekeren\n",
    "    \n",
    "    # extract the unique indexes available in this file\n",
    "    unique_idx = np.unique(idx_data)\n",
    "    \n",
    "    # reading in the data file\n",
    "    f = open(''.join([filename, \".dat\"]), \"rb\")  # reopen the file\n",
    "    f.seek(byte2skip, os.SEEK_SET)  # seek\n",
    "    data = np.fromfile(f, dtype=struct_dat)\n",
    "    \n",
    "    # writing a file for each gridpoint\n",
    "    if grid_point_id == 'all':\n",
    "        for grid_point in unique_idx:\n",
    "            data_dict = {}\n",
    "            indxs_point = np.where(idx_data == grid_point)\n",
    "            current_selection = data[indxs_point]\n",
    "            data_dict[''.join(['grid_point_',str(grid_point)])] = current_selection\n",
    "            sio.savemat(''.join([filename, '_', str(grid_point)]), data_dict) #.mat is automatically appended   \n",
    "    else:\n",
    "        if grid_point_id in unique_idx:\n",
    "            grid_point = grid_point_id\n",
    "            data_dict = {}\n",
    "            indxs_point = np.where(idx_data == grid_point)\n",
    "            current_selection = data[indxs_point]\n",
    "            data_dict[''.join(['grid_point_',str(grid_point)])] = current_selection\n",
    "            sio.savemat(''.join([filename, '_', str(grid_point)]), data_dict) #.mat is automatically appended   \n",
    "        else:\n",
    "            raise Exception('grid_point id not available...')\n",
    "    return data_dict"
   ]
  },
  {
   "cell_type": "markdown",
   "metadata": {},
   "source": [
    "Test the functionality as a function:"
   ]
  },
  {
   "cell_type": "markdown",
   "metadata": {},
   "source": [
    "**Extracting a single grid point, by naming the ID**"
   ]
  },
  {
   "cell_type": "code",
   "execution_count": 192,
   "metadata": {
    "collapsed": false
   },
   "outputs": [],
   "source": [
    "all_data = convert_ascat_to_matlab(\"./ASCAT/1323\", grid_point_id=2301795, byte2skip=208)"
   ]
  },
  {
   "cell_type": "markdown",
   "metadata": {},
   "source": [
    "**Extracting all grid points, all in separate files**"
   ]
  },
  {
   "cell_type": "code",
   "execution_count": null,
   "metadata": {
    "collapsed": true
   },
   "outputs": [],
   "source": [
    "all_data = convert_ascat_to_matlab(\"./ASCAT/1323\", grid_point_id='all', byte2skip=208)"
   ]
  },
  {
   "cell_type": "markdown",
   "metadata": {},
   "source": [
    "**So, now?**"
   ]
  },
  {
   "cell_type": "markdown",
   "metadata": {},
   "source": [
    "A second file, called *convert_ascat.py* is available to do this from the command line, using the filename as an extra argument, just make sure you have the python file executable. \n",
    "\n",
    "The dependencies are numpy and scipy. Easiest way of using this yourself is to install Anaconda, https://www.continuum.io/downloads, which will provide you these libraries (together with some other useful libraries) to make it possible.\n",
    "\n",
    "Another option is to install python/numpy/scipy itself manually; or use Miniconda and create your own set of library combinations; install http://conda.pydata.org/miniconda.html and create environment by putting the following command in the command line:\n",
    "\n",
    "        conda create -n myenvname python=2.7 numpy scipy"
   ]
  },
  {
   "cell_type": "markdown",
   "metadata": {},
   "source": [
    "Om het vanaf de command line uit te voeren doen je:\n",
    "\n",
    "            python convert_ascat.py"
   ]
  },
  {
   "cell_type": "markdown",
   "metadata": {},
   "source": [
    "Veel succes ermee en laat maar weten als je ergens vast loopt,"
   ]
  },
  {
   "cell_type": "markdown",
   "metadata": {},
   "source": [
    "mvg,\n",
    "\n",
    "Stijn"
   ]
  },
  {
   "cell_type": "code",
   "execution_count": null,
   "metadata": {
    "collapsed": true
   },
   "outputs": [],
   "source": []
  }
 ],
 "metadata": {
  "celltoolbar": "Slideshow",
  "kernelspec": {
   "display_name": "Python 2",
   "language": "python",
   "name": "python2"
  },
  "language_info": {
   "codemirror_mode": {
    "name": "ipython",
    "version": 2
   },
   "file_extension": ".py",
   "mimetype": "text/x-python",
   "name": "python",
   "nbconvert_exporter": "python",
   "pygments_lexer": "ipython2",
   "version": "2.7.10"
  }
 },
 "nbformat": 4,
 "nbformat_minor": 0
}
